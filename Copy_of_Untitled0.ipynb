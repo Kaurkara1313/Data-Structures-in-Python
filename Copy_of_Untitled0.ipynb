{
  "nbformat": 4,
  "nbformat_minor": 0,
  "metadata": {
    "colab": {
      "provenance": []
    },
    "kernelspec": {
      "name": "python3",
      "display_name": "Python 3"
    },
    "language_info": {
      "name": "python"
    }
  },
  "cells": [
    {
      "cell_type": "code",
      "source": [
        "#Que1: Write a code to reverse a string\n",
        "original_name = \"Karandeep Kaur\"\n",
        "reverse_name=original_name[::-1]\n",
        "reverse_name"
      ],
      "metadata": {
        "colab": {
          "base_uri": "https://localhost:8080/",
          "height": 35
        },
        "id": "GIq1US8sjKVI",
        "outputId": "e55e53ec-44b1-45d2-98e3-d0c045ae872c"
      },
      "execution_count": null,
      "outputs": [
        {
          "output_type": "execute_result",
          "data": {
            "text/plain": [
              "'ruaK peednaraK'"
            ],
            "application/vnd.google.colaboratory.intrinsic+json": {
              "type": "string"
            }
          },
          "metadata": {},
          "execution_count": 24
        }
      ]
    },
    {
      "cell_type": "code",
      "source": [
        "#Que 2:Write a code to count the number of vowels in a string\n",
        "\n",
        "_string = input(\"Enter string:\")\n",
        "_count_vowels=0\n",
        "for i in range(0,len(_string)):\n",
        "  if _string[i] in ('a','e','i','o','u','A','E','I','O','U'):\n",
        "    _count_vowels=_count_vowels+1\n",
        "print(_count_vowels)"
      ],
      "metadata": {
        "colab": {
          "base_uri": "https://localhost:8080/"
        },
        "id": "IsRcF839wU0q",
        "outputId": "814374cb-5530-4e69-e26c-20f1c99025d8"
      },
      "execution_count": null,
      "outputs": [
        {
          "output_type": "stream",
          "name": "stdout",
          "text": [
            "Enter string:Karandeep Kaur\n",
            "6\n"
          ]
        }
      ]
    },
    {
      "cell_type": "code",
      "source": [
        "# Que 3: Write code to check if given string is palindrome or not.\n",
        "_string = input(\"Enter string:\" )\n",
        "_string = _string.lower()\n",
        "_reverse_string = _string[::-1]\n",
        "_forward_string = _string[0::]\n",
        "if (_reverse_string == _forward_string):\n",
        "  print (\"The given string is palindrome:\", _string)\n",
        "else:\n",
        "  print(\"The given string is not palindrom:\" , _string)"
      ],
      "metadata": {
        "colab": {
          "base_uri": "https://localhost:8080/"
        },
        "id": "W5xEN-7b3ppw",
        "outputId": "208f7900-430d-4467-dd60-ab40d0ce9975"
      },
      "execution_count": null,
      "outputs": [
        {
          "output_type": "stream",
          "name": "stdout",
          "text": [
            "Enter string:123321\n",
            "The given string is palindrome: 123321\n"
          ]
        }
      ]
    }
  ]
}